{
 "cells": [
  {
   "cell_type": "code",
   "execution_count": 58,
   "id": "22a0dfc5-d1b4-4e5a-848d-fc6c50cbc03c",
   "metadata": {},
   "outputs": [],
   "source": [
    "from sklearn.datasets import fetch_lfw_people\n",
    "from facenet_pytorch import MTCNN, InceptionResnetV1\n",
    "import torch\n",
    "from PIL import Image\n",
    "import numpy as np\n",
    "import matplotlib.pyplot as plt\n",
    "from sklearn.decomposition import PCA\n",
    "from sklearn.model_selection import train_test_split\n",
    "from sklearn.metrics.pairwise import cosine_similarity"
   ]
  },
  {
   "cell_type": "markdown",
   "id": "9a15978b-7cbf-4a00-b1ee-041be34be30f",
   "metadata": {},
   "source": [
    "1. feladat"
   ]
  },
  {
   "cell_type": "code",
   "execution_count": 32,
   "id": "8846a546-be70-4941-8c98-5edec8018b14",
   "metadata": {},
   "outputs": [],
   "source": [
    "lfw = fetch_lfw_people(min_faces_per_person=5)"
   ]
  },
  {
   "cell_type": "code",
   "execution_count": 34,
   "id": "9c6f1f9b-df73-4bf7-80a6-f838f56bb9e1",
   "metadata": {},
   "outputs": [],
   "source": [
    "kep = lfw.images\n",
    "cim = lfw.target\n",
    "nev = lfw.target_names"
   ]
  },
  {
   "cell_type": "code",
   "execution_count": 38,
   "id": "2f8a8f37-d60c-422b-b75c-2a57819e8b52",
   "metadata": {},
   "outputs": [],
   "source": [
    "np.random.seed(42)\n",
    "selected = np.random.choice(len(kep), 200, replace=False)\n",
    "kepek = kep[selected]\n",
    "cimkek = cim[selected]\n",
    "nevek = [nev[label] for label in cimkek]"
   ]
  },
  {
   "cell_type": "code",
   "execution_count": 10,
   "id": "1542937b-815a-4b84-9edf-b0dba3ce7e6c",
   "metadata": {},
   "outputs": [],
   "source": [
    "np.save(\"selected_images.npy\", kepek)  \n",
    "np.save(\"selected_labels.npy\", cimkek)  "
   ]
  },
  {
   "cell_type": "markdown",
   "id": "350b3ae1-c199-4fb6-8070-92f1a12db3fd",
   "metadata": {},
   "source": [
    "Jelenítsünk meg egy képet!"
   ]
  },
  {
   "cell_type": "code",
   "execution_count": 14,
   "id": "1567649d-3afc-46c5-83d8-5652aefa8b9a",
   "metadata": {},
   "outputs": [
    {
     "data": {
      "image/png": "[encoded data removed]",
      "text/plain": [
       "<Figure size 640x480 with 1 Axes>"
      ]
     },
     "metadata": {},
     "output_type": "display_data"
    }
   ],
   "source": [
    "idx = 0 \n",
    "plt.imshow(kepek[idx], cmap='gray')  \n",
    "plt.title(f\"Név: {nev[cimkek[idx]]}\")  \n",
    "plt.axis('off') \n",
    "plt.show()"
   ]
  },
  {
   "cell_type": "markdown",
   "id": "db259a3e-8e13-4659-a2d1-44e82efd9661",
   "metadata": {},
   "source": [
    "2. feladat"
   ]
  },
  {
   "cell_type": "code",
   "execution_count": 18,
   "id": "51270c5c-ce05-4170-a91f-f869b5ecbcad",
   "metadata": {},
   "outputs": [
    {
     "data": {
      "application/vnd.jupyter.widget-view+json": {
       "model_id": "a5cd6d0aa6b74da6b0aed10b1fd6b2e4",
       "version_major": 2,
       "version_minor": 0
      },
      "text/plain": [
       "  0%|          | 0.00/107M [00:00<?, ?B/s]"
      ]
     },
     "metadata": {},
     "output_type": "display_data"
    }
   ],
   "source": [
    "device = torch.device(\"cuda\" if torch.cuda.is_available() else \"cpu\")\n",
    "mtcnn = MTCNN(keep_all=True, device=device)\n",
    "resnet = InceptionResnetV1(pretrained='vggface2').eval().to(device)\n",
    "beagyazo_vektorok = []"
   ]
  },
  {
   "cell_type": "code",
   "execution_count": 72,
   "id": "aca48718-c3bc-4a3e-bd0d-1bfab29eaec6",
   "metadata": {},
   "outputs": [],
   "source": [
    "def generate_embeddings(images):\n",
    "    embeddings = []\n",
    "    with torch.no_grad():\n",
    "        for img in images:\n",
    "            if isinstance(img, np.ndarray):\n",
    "                img = Image.fromarray(img)\n",
    "            if img.mode != 'RGB':\n",
    "                img = img.convert('RGB')\n",
    "            img = img.resize((160, 160))\n",
    "            img_array = np.array(img)\n",
    "            img_tensor = torch.tensor(img_array).permute(2, 0, 1).unsqueeze(0).float().to(device)\n",
    "            embedding = resnet(img_tensor).squeeze().cpu().numpy()\n",
    "            embeddings.append(embedding)\n",
    "    return np.array(embeddings)\n",
    "\n",
    "train_embeddings = generate_embeddings(train_images)\n",
    "test_embeddings = generate_embeddings(test_images)"
   ]
  },
  {
   "cell_type": "code",
   "execution_count": 22,
   "id": "738a2eb6-6de9-47e4-a737-cdc440d89082",
   "metadata": {
    "scrolled": true
   },
   "outputs": [
    {
     "name": "stdout",
     "output_type": "stream",
     "text": [
      "Egy minta beágyazóvektor: [ 2.29062457e-02  3.74327414e-02 -5.99165633e-02 -7.98912346e-02\n",
      "  8.77130218e-03  1.35963252e-02 -3.47016975e-02  6.46059215e-02\n",
      " -6.99659716e-03 -3.21159102e-02  5.77187166e-03  4.19187620e-02\n",
      "  5.18032387e-02  4.73418459e-02  4.76186210e-03  5.04780412e-02\n",
      " -6.00540787e-02 -4.55298834e-02 -2.69850018e-03 -3.76649164e-02\n",
      "  4.87130620e-02 -8.86223987e-02  3.07366922e-02  1.70936380e-02\n",
      "  6.14319891e-02 -3.49642672e-02  5.35666049e-02 -5.73686883e-02\n",
      " -1.39876932e-03 -3.45288813e-02  2.61629894e-02 -7.66410753e-02\n",
      " -1.47533100e-02  2.66549010e-02 -1.30901737e-02  7.08439127e-02\n",
      "  6.94356263e-02  2.83447951e-02  9.78992693e-03 -3.54220644e-02\n",
      " -2.17330158e-02 -2.18373840e-03 -6.31548613e-02  2.70181522e-03\n",
      " -8.20486806e-03  1.11124953e-02 -8.92381966e-02  2.56874785e-02\n",
      " -3.99996825e-02  9.58685018e-03 -7.05318078e-02 -5.95860071e-02\n",
      " -7.16909394e-02 -5.72758391e-02 -8.00196230e-02  3.44526954e-02\n",
      "  3.64772193e-02 -8.48364532e-02  1.33581590e-02 -9.57174692e-03\n",
      "  4.49333573e-03  5.51520698e-02 -1.58603843e-02  6.38752729e-02\n",
      "  3.19998227e-02 -6.25895709e-02  3.14079523e-02 -5.32140210e-02\n",
      "  5.07873967e-02 -4.21928067e-04 -3.57407108e-02 -9.76135731e-02\n",
      "  3.49132009e-02  9.16590542e-03  4.72363569e-02  1.50670987e-02\n",
      " -3.19852009e-02 -6.84233010e-03  2.11792090e-03  2.05211136e-02\n",
      "  1.73330773e-02 -5.36515424e-03  3.31663415e-02  1.43964496e-02\n",
      "  1.69395171e-02 -4.53131534e-02  3.36257145e-02  7.64039382e-02\n",
      " -3.74705903e-02 -4.29263301e-02 -5.32289669e-02  1.23704392e-02\n",
      " -5.74871860e-02 -2.79369727e-02 -3.49936150e-02 -5.27454279e-02\n",
      " -4.82417941e-02 -8.50257874e-02 -3.02777588e-02  2.89507136e-02\n",
      "  4.30015177e-02  2.21146382e-02 -2.33775247e-02  3.86885852e-02\n",
      " -7.88814053e-02  1.42556778e-03 -5.08301146e-02 -1.82072278e-02\n",
      "  2.80873459e-02 -7.12215826e-02 -4.52725217e-03  1.99218113e-02\n",
      " -5.40975435e-03  3.34293060e-02  7.20769688e-02  2.26941472e-03\n",
      " -2.63999067e-02  6.52460847e-03  4.63309176e-02 -7.76044186e-03\n",
      "  2.56649759e-02 -2.65007075e-02 -6.81297854e-03 -3.67079899e-02\n",
      " -4.44228388e-03 -2.86873654e-02 -6.52738735e-02  4.04117033e-02\n",
      " -4.28601801e-02  1.41826761e-03 -3.69105339e-02 -1.16160950e-02\n",
      " -5.30034378e-02 -2.50589140e-02  2.99495682e-02  6.12120740e-02\n",
      "  7.25535527e-02  1.56923141e-02 -7.10595995e-02 -5.94373122e-02\n",
      "  7.34432088e-03  5.25255501e-03 -1.16390232e-02 -2.37001311e-02\n",
      "  7.02132955e-02 -1.43700307e-02 -2.67862226e-03  7.51095787e-02\n",
      "  3.76705267e-02 -4.99957688e-02 -8.74807090e-02 -9.21523548e-04\n",
      "  3.85708436e-02 -4.01482582e-02  5.23444898e-02  2.14909203e-02\n",
      "  6.34876313e-03  4.63711619e-02  4.73276566e-04 -3.09154335e-02\n",
      " -1.61082223e-02  3.09735779e-02  3.09707988e-02 -6.83637289e-03\n",
      "  5.10330349e-02 -4.00530780e-03 -1.09009650e-02  5.32157831e-02\n",
      " -5.67365140e-02 -3.39764589e-03  6.63633719e-02 -3.64761241e-02\n",
      "  1.69006977e-02  2.58611962e-02  4.77638654e-02 -7.09626153e-02\n",
      "  1.19490763e-02 -7.06428960e-02 -1.09238841e-01  8.51042867e-02\n",
      "  4.91524898e-02 -2.22034249e-02 -2.56545860e-02 -6.33894205e-02\n",
      "  1.40745770e-02 -5.90938255e-02 -5.52459098e-02  1.48292305e-03\n",
      " -3.99188101e-02 -1.09513454e-01 -1.14424907e-01  4.23864741e-03\n",
      "  7.75167421e-02 -9.24896374e-02  3.31749506e-02 -9.43627395e-03\n",
      "  5.33436239e-02  3.25851217e-02  4.64693643e-02  7.20964968e-02\n",
      " -5.16370758e-02 -2.92884670e-02  2.91224271e-02  2.05907859e-02\n",
      "  3.10309511e-02  5.54915369e-02 -7.72644673e-03 -4.95023802e-02\n",
      "  5.16960509e-02  3.23738381e-02  1.39094628e-02  4.76189815e-02\n",
      " -7.46356472e-02  3.44183715e-03  4.98967394e-02 -1.88340596e-03\n",
      " -1.05530387e-02 -8.09841510e-03  1.21698067e-01 -7.32354075e-02\n",
      " -1.02787316e-02  6.27549142e-02  2.66139414e-02  3.62158078e-03\n",
      "  7.20029324e-02 -1.04458826e-02 -7.18297437e-02 -5.75960018e-02\n",
      " -8.28087851e-02 -3.61734778e-02 -8.90288725e-02  6.26748577e-02\n",
      "  3.47934924e-02 -5.99371828e-03  6.74525872e-02  8.86601862e-03\n",
      "  7.45878071e-02 -5.41492999e-02 -2.50971820e-02 -2.43980847e-02\n",
      "  1.60133187e-02  2.39277892e-02  5.10191843e-02 -4.61290888e-02\n",
      "  2.73710606e-03  7.31719658e-02 -1.78632010e-02 -2.98127588e-02\n",
      " -5.40891942e-03  2.99569611e-02 -2.62473486e-02 -4.23342995e-02\n",
      " -1.52949858e-02  4.40813936e-02  3.32341082e-02 -1.20261326e-01\n",
      "  1.23371808e-02  6.50994778e-02 -1.59001816e-02  3.33524793e-02\n",
      "  1.21405849e-03 -1.29997265e-03 -6.35843426e-02 -9.65297148e-02\n",
      " -3.37537117e-02 -4.67769690e-02  6.39523044e-02 -8.80446583e-02\n",
      " -4.99787442e-02 -9.76411253e-03  1.76513288e-02  3.13441531e-04\n",
      " -3.06094922e-02 -6.58054799e-02 -4.59617525e-02  7.91256875e-03\n",
      "  3.38568613e-02 -4.65381816e-02  5.88819385e-02 -1.84266027e-02\n",
      " -4.92715416e-03 -3.27778831e-02  1.22537808e-02  2.09873263e-02\n",
      "  1.75593458e-02  3.40437703e-02  7.00853914e-02 -4.41664234e-02\n",
      "  4.58693355e-02 -3.08337789e-02  4.18623816e-03 -2.90773958e-02\n",
      " -1.33784292e-02  4.29014154e-02 -2.12465581e-02 -2.00402010e-02\n",
      "  2.71539651e-02  8.52077901e-02  6.33093948e-03  6.92973360e-02\n",
      "  2.16993336e-02 -2.36970205e-02 -7.55905211e-02  3.72246490e-04\n",
      " -6.36166707e-02 -8.14883597e-03 -1.77511442e-02 -3.54046300e-02\n",
      " -2.70651244e-02 -1.88307129e-02 -5.51912822e-02 -8.75605568e-02\n",
      " -2.82544717e-02 -3.25120613e-02 -3.78993712e-02  3.09330001e-02\n",
      "  7.49456137e-02 -8.76505971e-02 -1.29916715e-02  5.27119955e-05\n",
      "  1.40984543e-02 -3.76792997e-02 -9.07298326e-02 -1.05057888e-01\n",
      " -1.65508315e-02  6.37669191e-02  7.19637722e-02  3.58010344e-02\n",
      "  2.08488274e-02 -4.63136509e-02  1.30023882e-01 -5.34388497e-02\n",
      " -6.12092018e-02 -1.07179694e-02 -1.26396101e-02 -7.85230775e-04\n",
      " -3.98221947e-02  1.04146684e-02 -1.91501640e-02  1.88754387e-02\n",
      " -1.51161831e-02 -3.89112346e-02  4.25749719e-02  7.02906922e-02\n",
      "  1.96320731e-02  2.96838046e-03 -2.10309774e-02  2.54920851e-02\n",
      " -2.12665424e-02  3.72896679e-02 -5.23337126e-02 -5.35788424e-02\n",
      "  9.32732131e-03  5.57375662e-02 -4.14361842e-02 -1.51714729e-02\n",
      " -3.53761278e-02 -1.30176591e-02 -4.72273640e-02 -9.24589578e-03\n",
      "  8.08694065e-02 -1.80814825e-02 -4.52723764e-02  6.44870661e-03\n",
      " -3.23884599e-02  2.57712379e-02  9.16597769e-02  5.32136895e-02\n",
      "  2.54858751e-02  5.99019323e-03  5.11313900e-02  3.51845510e-02\n",
      "  5.88262267e-02 -2.19089421e-03 -4.13687527e-02 -1.01093642e-01\n",
      "  1.68697666e-02 -6.66753575e-02 -1.35342637e-02 -2.69357413e-02\n",
      "  4.00309218e-03  7.10022543e-03  2.41624210e-02  2.39031878e-03\n",
      " -1.99824888e-02 -7.91465193e-02 -3.60822976e-02  2.11999509e-02\n",
      " -1.78994033e-02 -2.16253824e-03  5.44212684e-02  2.12685671e-03\n",
      " -1.35383718e-02 -4.60592359e-02 -4.32054996e-02  2.20038984e-02\n",
      "  3.63763832e-02 -1.77158713e-02 -5.82769839e-03  1.75621675e-03\n",
      "  1.49040278e-02  6.47794083e-02  1.95673611e-02 -1.88478436e-02\n",
      "  2.84473803e-02  5.76364025e-02  1.14323068e-02  6.24458131e-04\n",
      "  2.73759253e-02  8.04826170e-02 -5.90420188e-03  2.52826288e-02\n",
      " -1.39788818e-02  6.18735924e-02 -9.39160399e-03 -7.96059296e-02\n",
      "  5.32202162e-02 -1.00519415e-02 -1.78668741e-02  1.16984630e-02\n",
      " -5.85209914e-02 -2.74661719e-03 -6.34480938e-02 -7.99990520e-02\n",
      "  1.35448826e-02  8.70727673e-02 -7.19518540e-03 -3.35414335e-02\n",
      "  5.58964759e-02  1.80315524e-02  3.84353697e-02  5.59203653e-03\n",
      " -3.46463285e-02 -6.11257320e-03 -1.24271447e-02 -4.02867757e-02\n",
      " -1.41352527e-02 -2.05720849e-02 -5.43594034e-03  3.33754788e-03\n",
      "  5.73969148e-02 -1.56197175e-02 -1.89955514e-02  4.62826043e-02\n",
      " -2.83096172e-02  3.20616253e-02 -8.87567624e-02  1.28237875e-02\n",
      "  3.94449010e-03  3.77801023e-02  4.48045135e-02 -1.67876538e-02\n",
      " -3.40157785e-02  4.21863012e-02 -1.28221037e-02  2.19948757e-02\n",
      " -4.07825224e-03  2.18582414e-02  3.25247534e-02  4.88979928e-02\n",
      "  4.12169956e-02  2.33761538e-02  2.58295592e-02 -5.14963754e-02\n",
      "  6.98546693e-03 -5.67414099e-03  2.28681718e-03  7.03961924e-02\n",
      " -5.66163026e-02  2.33697612e-02  6.66939747e-03 -8.55727773e-03\n",
      "  7.25001171e-02 -4.38285172e-02  1.82121936e-02 -2.45328899e-03\n",
      " -2.37885043e-02 -2.17480818e-03 -8.89718719e-03 -8.56187344e-02\n",
      "  8.09619296e-03 -4.69797552e-02  7.70260999e-03 -2.35248934e-02\n",
      " -3.60202976e-02  7.67813846e-02 -1.17381068e-03 -4.01267931e-02\n",
      "  2.66252104e-02  4.49866094e-02  1.02831395e-02 -5.69349974e-02\n",
      "  4.05856334e-02  2.45528892e-02  1.20290583e-02 -2.66570263e-02\n",
      " -5.84259927e-02 -4.59281839e-02 -1.30600901e-02 -6.85563758e-02\n",
      "  2.30268110e-02  4.60757501e-02 -1.98551659e-02 -7.04731569e-02\n",
      "  3.75747383e-02 -4.76642337e-04  1.27063897e-02  6.18116781e-02\n",
      " -8.77832472e-02 -2.15715189e-02  7.18427673e-02  1.81795415e-02]\n"
     ]
    }
   ],
   "source": [
    "beagyazo_vektorok = np.array(beagyazo_vektorok)\n",
    "np.save(\"embedding_vectors.npy\", beagyazo_vektorok)\n",
    "np.save(\"labels.npy\", cimkek[:len(beagyazo_vektorok)])\n",
    "print(\"Egy minta beágyazóvektor:\", beagyazo_vektorok[0])"
   ]
  },
  {
   "cell_type": "markdown",
   "id": "c830356c-1a69-46b1-a08a-0fb5b4659d76",
   "metadata": {},
   "source": [
    "3. feladat"
   ]
  },
  {
   "cell_type": "code",
   "execution_count": 78,
   "id": "7ba3bf19-67d4-4872-8a0d-561056af3490",
   "metadata": {
    "scrolled": true
   },
   "outputs": [
    {
     "name": "stdout",
     "output_type": "stream",
     "text": [
      "Label 0 kihagyva, mert csak 1 minta van.\n",
      "Label 2 kihagyva, mert csak 1 minta van.\n",
      "Label 4 kihagyva, mert csak 1 minta van.\n",
      "Label 9 kihagyva, mert csak 1 minta van.\n",
      "Label 14 kihagyva, mert csak 1 minta van.\n",
      "Label 18 kihagyva, mert csak 1 minta van.\n",
      "Label 25 kihagyva, mert csak 1 minta van.\n",
      "Label 26 kihagyva, mert csak 1 minta van.\n",
      "Label 31 kihagyva, mert csak 1 minta van.\n",
      "Label 38 kihagyva, mert csak 1 minta van.\n",
      "Label 42 kihagyva, mert csak 1 minta van.\n",
      "Label 50 kihagyva, mert csak 1 minta van.\n",
      "Label 51 kihagyva, mert csak 1 minta van.\n",
      "Label 54 kihagyva, mert csak 1 minta van.\n",
      "Label 63 kihagyva, mert csak 1 minta van.\n",
      "Label 64 kihagyva, mert csak 1 minta van.\n",
      "Label 65 kihagyva, mert csak 1 minta van.\n",
      "Label 68 kihagyva, mert csak 1 minta van.\n",
      "Label 74 kihagyva, mert csak 1 minta van.\n",
      "Label 82 kihagyva, mert csak 1 minta van.\n",
      "Label 84 kihagyva, mert csak 1 minta van.\n",
      "Label 105 kihagyva, mert csak 1 minta van.\n",
      "Label 106 kihagyva, mert csak 1 minta van.\n",
      "Label 108 kihagyva, mert csak 1 minta van.\n",
      "Label 110 kihagyva, mert csak 1 minta van.\n",
      "Label 116 kihagyva, mert csak 1 minta van.\n",
      "Label 122 kihagyva, mert csak 1 minta van.\n",
      "Label 129 kihagyva, mert csak 1 minta van.\n",
      "Label 141 kihagyva, mert csak 1 minta van.\n",
      "Label 150 kihagyva, mert csak 1 minta van.\n",
      "Label 153 kihagyva, mert csak 1 minta van.\n",
      "Label 154 kihagyva, mert csak 1 minta van.\n",
      "Label 155 kihagyva, mert csak 1 minta van.\n",
      "Label 156 kihagyva, mert csak 1 minta van.\n",
      "Label 161 kihagyva, mert csak 1 minta van.\n",
      "Label 163 kihagyva, mert csak 1 minta van.\n",
      "Label 164 kihagyva, mert csak 1 minta van.\n",
      "Label 166 kihagyva, mert csak 1 minta van.\n",
      "Label 171 kihagyva, mert csak 1 minta van.\n",
      "Label 184 kihagyva, mert csak 1 minta van.\n",
      "Label 185 kihagyva, mert csak 1 minta van.\n",
      "Label 189 kihagyva, mert csak 1 minta van.\n",
      "Label 195 kihagyva, mert csak 1 minta van.\n",
      "Label 201 kihagyva, mert csak 1 minta van.\n",
      "Label 203 kihagyva, mert csak 1 minta van.\n",
      "Label 204 kihagyva, mert csak 1 minta van.\n",
      "Label 207 kihagyva, mert csak 1 minta van.\n",
      "Label 209 kihagyva, mert csak 1 minta van.\n",
      "Label 210 kihagyva, mert csak 1 minta van.\n",
      "Label 216 kihagyva, mert csak 1 minta van.\n",
      "Label 223 kihagyva, mert csak 1 minta van.\n",
      "Label 233 kihagyva, mert csak 1 minta van.\n",
      "Label 234 kihagyva, mert csak 1 minta van.\n",
      "Label 243 kihagyva, mert csak 1 minta van.\n",
      "Label 246 kihagyva, mert csak 1 minta van.\n",
      "Label 265 kihagyva, mert csak 1 minta van.\n",
      "Label 267 kihagyva, mert csak 1 minta van.\n",
      "Label 274 kihagyva, mert csak 1 minta van.\n",
      "Label 278 kihagyva, mert csak 1 minta van.\n",
      "Label 285 kihagyva, mert csak 1 minta van.\n",
      "Label 287 kihagyva, mert csak 1 minta van.\n",
      "Label 293 kihagyva, mert csak 1 minta van.\n",
      "Label 295 kihagyva, mert csak 1 minta van.\n",
      "Label 297 kihagyva, mert csak 1 minta van.\n",
      "Label 309 kihagyva, mert csak 1 minta van.\n",
      "Label 310 kihagyva, mert csak 1 minta van.\n",
      "Label 315 kihagyva, mert csak 1 minta van.\n",
      "Label 319 kihagyva, mert csak 1 minta van.\n",
      "Label 320 kihagyva, mert csak 1 minta van.\n",
      "Label 326 kihagyva, mert csak 1 minta van.\n",
      "Label 335 kihagyva, mert csak 1 minta van.\n",
      "Label 338 kihagyva, mert csak 1 minta van.\n",
      "Label 340 kihagyva, mert csak 1 minta van.\n",
      "Label 341 kihagyva, mert csak 1 minta van.\n",
      "Label 342 kihagyva, mert csak 1 minta van.\n",
      "Label 347 kihagyva, mert csak 1 minta van.\n",
      "Label 367 kihagyva, mert csak 1 minta van.\n",
      "Label 374 kihagyva, mert csak 1 minta van.\n",
      "Label 384 kihagyva, mert csak 1 minta van.\n",
      "Label 388 kihagyva, mert csak 1 minta van.\n",
      "Label 399 kihagyva, mert csak 1 minta van.\n",
      "Label 401 kihagyva, mert csak 1 minta van.\n",
      "Label 403 kihagyva, mert csak 1 minta van.\n",
      "Label 404 kihagyva, mert csak 1 minta van.\n",
      "Label 405 kihagyva, mert csak 1 minta van.\n",
      "Label 408 kihagyva, mert csak 1 minta van.\n",
      "Label 409 kihagyva, mert csak 1 minta van.\n",
      "Label 412 kihagyva, mert csak 1 minta van.\n",
      "Label 418 kihagyva, mert csak 1 minta van.\n",
      "Label 420 kihagyva, mert csak 1 minta van.\n",
      "Label 421 kihagyva, mert csak 1 minta van.\n",
      "Label 422 kihagyva, mert csak 1 minta van.\n"
     ]
    }
   ],
   "source": [
    "egyedi = np.unique(cimkek)\n",
    "train_egyed = []\n",
    "test_egyed = []\n",
    "\n",
    "for label in egyedi:\n",
    "    label_indices = np.where(cimkek == label)[0]\n",
    "    \n",
    "    if len(label_indices) > 1:\n",
    "        train_idx, test_idx = train_test_split(\n",
    "            label_indices,\n",
    "            test_size=50 / 200,  \n",
    "            random_state=42\n",
    "        )\n",
    "        train_egyed.extend(train_idx)\n",
    "        test_egyed.extend(test_idx)\n",
    "    else:\n",
    "        print(f\"Label {label} kihagyva, mert csak {len(label_indices)} minta van.\")\n",
    "\n",
    "train_images = kepek[train_egyed]\n",
    "test_images = kepek[test_egyed]\n",
    "train_labels = cimkek[train_egyed]\n",
    "test_labels = cimkek[test_egyed]"
   ]
  },
  {
   "cell_type": "markdown",
   "id": "47d65d15-3a59-4a70-97c6-4da81e693c00",
   "metadata": {},
   "source": [
    "4.-5. feladat"
   ]
  },
  {
   "cell_type": "code",
   "execution_count": 80,
   "id": "1e0e1430-1677-4963-9cdf-c7eb26a7b0ff",
   "metadata": {},
   "outputs": [
    {
     "name": "stdout",
     "output_type": "stream",
     "text": [
      "Pontosság: 2.44%\n"
     ]
    }
   ],
   "source": [
    "correct_predictions = 0\n",
    "\n",
    "for i, test_vector in enumerate(test_embeddings):\n",
    "    similarities = cosine_similarity([test_vector], train_embeddings)\n",
    "    predicted_label = train_labels[np.argmax(similarities)]\n",
    "    if predicted_label == test_labels[i]:\n",
    "        correct_predictions += 1\n",
    "\n",
    "accuracy = correct_predictions / len(test_labels)\n",
    "print(f\"Pontosság: {accuracy:.2%}\")"
   ]
  }
 ],
 "metadata": {
  "kernelspec": {
   "display_name": "Python 3 (ipykernel)",
   "language": "python",
   "name": "python3"
  },
  "language_info": {
   "codemirror_mode": {
    "name": "ipython",
    "version": 3
   },
   "file_extension": ".py",
   "mimetype": "text/x-python",
   "name": "python",
   "nbconvert_exporter": "python",
   "pygments_lexer": "ipython3",
   "version": "3.12.7"
  }
 },
 "nbformat": 4,
 "nbformat_minor": 5
}
